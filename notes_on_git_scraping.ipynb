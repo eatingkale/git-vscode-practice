{
 "cells": [
  {
   "cell_type": "markdown",
   "metadata": {},
   "source": [
    "### git scraping notes"
   ]
  },
  {
   "cell_type": "markdown",
   "metadata": {},
   "source": [
    "#### Github Profile from youtube video: simonw/ca-fires-history"
   ]
  },
  {
   "cell_type": "markdown",
   "metadata": {},
   "source": [
    "using the browser data from a site such as PG&E outages, CA Fire map, gets the raw data behind the visualization (map, etc). Sorts by size??? \n",
    "- he copy pastes the URL, creates a new repository, CDC vaccination history\n",
    "- makes a scrape.yml in .github/workflows/scrape.yml\n",
    "- what is a yml file?\n",
    "- gets an \"incidents.json\" file\n",
    "- point is he is able to take advantage of the free compute resources that github provides to you, and uses it to scrape data "
   ]
  },
  {
   "cell_type": "markdown",
   "metadata": {},
   "source": [
    "--> can use this for obtaining data on the ca fires?????"
   ]
  },
  {
   "cell_type": "markdown",
   "metadata": {},
   "source": [
    "repos: awesome for non-programmers, awesome-for-beginners"
   ]
  },
  {
   "cell_type": "markdown",
   "metadata": {},
   "source": [
    "next steps: review merge conflicts"
   ]
  },
  {
   "cell_type": "markdown",
   "metadata": {},
   "source": []
  }
 ],
 "metadata": {
  "kernelspec": {
   "display_name": "Python 3",
   "language": "python",
   "name": "python3"
  },
  "language_info": {
   "codemirror_mode": {
    "name": "ipython",
    "version": 3
   },
   "file_extension": ".py",
   "mimetype": "text/x-python",
   "name": "python",
   "nbconvert_exporter": "python",
   "pygments_lexer": "ipython3",
   "version": "3.11.7"
  }
 },
 "nbformat": 4,
 "nbformat_minor": 2
}
